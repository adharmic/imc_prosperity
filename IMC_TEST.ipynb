{
  "nbformat": 4,
  "nbformat_minor": 0,
  "metadata": {
    "colab": {
      "provenance": [],
      "include_colab_link": true
    },
    "kernelspec": {
      "name": "python3",
      "display_name": "Python 3"
    },
    "language_info": {
      "name": "python"
    }
  },
  "cells": [
    {
      "cell_type": "markdown",
      "metadata": {
        "id": "view-in-github",
        "colab_type": "text"
      },
      "source": [
        "<a href=\"https://colab.research.google.com/github/adharmic/imc_prosperity/blob/main/IMC_TEST.ipynb\" target=\"_parent\"><img src=\"https://colab.research.google.com/assets/colab-badge.svg\" alt=\"Open In Colab\"/></a>"
      ]
    },
    {
      "cell_type": "code",
      "execution_count": null,
      "metadata": {
        "id": "m2-s1MRN1yL4",
        "colab": {
          "base_uri": "https://localhost:8080/"
        },
        "outputId": "cc6132c8-1cab-4a5a-c863-5110ccfb2d80"
      },
      "outputs": [
        {
          "output_type": "stream",
          "name": "stdout",
          "text": [
            "Cloning into 'imc_prosperity'...\n",
            "fatal: could not read Username for 'https://github.com': No such device or address\n"
          ]
        }
      ],
      "source": [
        "!git clone https://github.com/adharmic/imc_prosperity.git"
      ]
    },
    {
      "cell_type": "code",
      "source": [
        "from google.colab import drive\n",
        "drive.mount('/content/drive')"
      ],
      "metadata": {
        "colab": {
          "base_uri": "https://localhost:8080/"
        },
        "id": "11E03DiX3yhj",
        "outputId": "9d606f8a-9cc5-49bd-85fd-5439aa7cf221"
      },
      "execution_count": null,
      "outputs": [
        {
          "output_type": "stream",
          "name": "stdout",
          "text": [
            "Mounted at /content/drive\n"
          ]
        }
      ]
    },
    {
      "cell_type": "code",
      "source": [
        "%%python -V"
      ],
      "metadata": {
        "colab": {
          "base_uri": "https://localhost:8080/"
        },
        "id": "3n9fMBXL7sqZ",
        "outputId": "b17b1d70-3121-4eef-f830-a02eef6f7d91"
      },
      "execution_count": null,
      "outputs": [
        {
          "output_type": "stream",
          "name": "stdout",
          "text": [
            "Python 3.10.12\n"
          ]
        }
      ]
    },
    {
      "cell_type": "markdown",
      "source": [
        "Below is `datamodel.py` file.\n",
        "\n",
        "For cells below this one just comment out the `import datamodel` file."
      ],
      "metadata": {
        "id": "o0loQO4l8ugh"
      }
    },
    {
      "cell_type": "code",
      "source": [
        "import json\n",
        "from typing import Dict, List\n",
        "from json import JSONEncoder\n",
        "import jsonpickle\n",
        "\n",
        "Time = int\n",
        "Symbol = str\n",
        "Product = str\n",
        "Position = int\n",
        "UserId = str\n",
        "ObservationValue = int\n",
        "\n",
        "\n",
        "class Listing:\n",
        "\n",
        "    def __init__(self, symbol: Symbol, product: Product, denomination: Product):\n",
        "        self.symbol = symbol\n",
        "        self.product = product\n",
        "        self.denomination = denomination\n",
        "\n",
        "\n",
        "class ConversionObservation:\n",
        "\n",
        "    def __init__(self, bidPrice: float, askPrice: float, transportFees: float, exportTariff: float, importTariff: float, sunlight: float, humidity: float):\n",
        "        self.bidPrice = bidPrice\n",
        "        self.askPrice = askPrice\n",
        "        self.transportFees = transportFees\n",
        "        self.exportTariff = exportTariff\n",
        "        self.importTariff = importTariff\n",
        "        self.sunlight = sunlight\n",
        "        self.humidity = humidity\n",
        "\n",
        "\n",
        "class Observation:\n",
        "\n",
        "    def __init__(self, plainValueObservations: Dict[Product, ObservationValue], conversionObservations: Dict[Product, ConversionObservation]) -> None:\n",
        "        self.plainValueObservations = plainValueObservations\n",
        "        self.conversionObservations = conversionObservations\n",
        "\n",
        "    def __str__(self) -> str:\n",
        "        return \"(plainValueObservations: \" + jsonpickle.encode(self.plainValueObservations) + \", conversionObservations: \" + jsonpickle.encode(self.conversionObservations) + \")\"\n",
        "\n",
        "\n",
        "class Order:\n",
        "\n",
        "    def __init__(self, symbol: Symbol, price: int, quantity: int) -> None:\n",
        "        self.symbol = symbol\n",
        "        self.price = price\n",
        "        self.quantity = quantity\n",
        "\n",
        "    def __str__(self) -> str:\n",
        "        return \"(\" + self.symbol + \", \" + str(self.price) + \", \" + str(self.quantity) + \")\"\n",
        "\n",
        "    def __repr__(self) -> str:\n",
        "        return \"(\" + self.symbol + \", \" + str(self.price) + \", \" + str(self.quantity) + \")\"\n",
        "\n",
        "\n",
        "class OrderDepth:\n",
        "\n",
        "    def __init__(self):\n",
        "        self.buy_orders: Dict[int, int] = {}\n",
        "        self.sell_orders: Dict[int, int] = {}\n",
        "\n",
        "\n",
        "class Trade:\n",
        "\n",
        "    def __init__(self, symbol: Symbol, price: int, quantity: int, buyer: UserId=None, seller: UserId=None, timestamp: int=0) -> None:\n",
        "        self.symbol = symbol\n",
        "        self.price: int = price\n",
        "        self.quantity: int = quantity\n",
        "        self.buyer = buyer\n",
        "        self.seller = seller\n",
        "        self.timestamp = timestamp\n",
        "\n",
        "    def __str__(self) -> str:\n",
        "        return \"(\" + self.symbol + \", \" + self.buyer + \" << \" + self.seller + \", \" + str(self.price) + \", \" + str(self.quantity) + \", \" + str(self.timestamp) + \")\"\n",
        "\n",
        "    def __repr__(self) -> str:\n",
        "        return \"(\" + self.symbol + \", \" + self.buyer + \" << \" + self.seller + \", \" + str(self.price) + \", \" + str(self.quantity) + \", \" + str(self.timestamp) + \")\"\n",
        "\n",
        "\n",
        "class TradingState(object):\n",
        "\n",
        "    def __init__(self,\n",
        "                 traderData: str,\n",
        "                 timestamp: Time,\n",
        "                 listings: Dict[Symbol, Listing],\n",
        "                 order_depths: Dict[Symbol, OrderDepth],\n",
        "                 own_trades: Dict[Symbol, List[Trade]],\n",
        "                 market_trades: Dict[Symbol, List[Trade]],\n",
        "                 position: Dict[Product, Position],\n",
        "                 observations: Observation):\n",
        "        self.traderData = traderData\n",
        "        self.timestamp = timestamp\n",
        "        self.listings = listings\n",
        "        self.order_depths = order_depths\n",
        "        self.own_trades = own_trades\n",
        "        self.market_trades = market_trades\n",
        "        self.position = position\n",
        "        self.observations = observations\n",
        "\n",
        "    def toJSON(self):\n",
        "        return json.dumps(self, default=lambda o: o.__dict__, sort_keys=True)\n",
        "\n",
        "\n",
        "class ProsperityEncoder(JSONEncoder):\n",
        "\n",
        "        def default(self, o):\n",
        "            return o.__dict__"
      ],
      "metadata": {
        "id": "aQntM0KV8sKC"
      },
      "execution_count": null,
      "outputs": []
    },
    {
      "cell_type": "markdown",
      "source": [
        "Below is from wiki"
      ],
      "metadata": {
        "id": "uLqF5VBV8PFa"
      }
    },
    {
      "cell_type": "code",
      "source": [
        "# from datamodel import OrderDepth, UserId, TradingState, Order\n",
        "from typing import List\n",
        "import string\n",
        "\n",
        "class Trader:\n",
        "\n",
        "    def run(self, state: TradingState):\n",
        "        print(\"traderData: \" + state.traderData)\n",
        "        print(\"Observations: \" + str(state.observations))\n",
        "\n",
        "\t\t\t\t# Orders to be placed on exchange matching engine\n",
        "        result = {}\n",
        "        for product in state.order_depths:\n",
        "            order_depth: OrderDepth = state.order_depths[product]\n",
        "            orders: List[Order] = []\n",
        "            acceptable_price = 10  # Participant should calculate this value\n",
        "            print(\"Acceptable price : \" + str(acceptable_price))\n",
        "            print(\"Buy Order depth : \" + str(len(order_depth.buy_orders)) + \", Sell order depth : \" + str(len(order_depth.sell_orders)))\n",
        "\n",
        "            if len(order_depth.sell_orders) != 0:\n",
        "                best_ask, best_ask_amount = list(order_depth.sell_orders.items())[0]\n",
        "                if int(best_ask) < acceptable_price:\n",
        "                    print(\"BUY\", str(-best_ask_amount) + \"x\", best_ask)\n",
        "                    orders.append(Order(product, best_ask, -best_ask_amount))\n",
        "\n",
        "            if len(order_depth.buy_orders) != 0:\n",
        "                best_bid, best_bid_amount = list(order_depth.buy_orders.items())[0]\n",
        "                if int(best_bid) > acceptable_price:\n",
        "                    print(\"SELL\", str(best_bid_amount) + \"x\", best_bid)\n",
        "                    orders.append(Order(product, best_bid, -best_bid_amount))\n",
        "\n",
        "            result[product] = orders\n",
        "\n",
        "\t\t    # String value holding Trader state data required.\n",
        "\t\t\t\t# It will be delivered as TradingState.traderData on next execution.\n",
        "        traderData = \"SAMPLE\"\n",
        "\n",
        "\t\t\t\t# Sample conversion request. Check more details below.\n",
        "        conversions = 1\n",
        "        return result, conversions, traderData"
      ],
      "metadata": {
        "id": "GNqWiB1S8EGx"
      },
      "execution_count": null,
      "outputs": []
    },
    {
      "cell_type": "code",
      "source": [],
      "metadata": {
        "id": "OfpHek1l8eog"
      },
      "execution_count": null,
      "outputs": []
    },
    {
      "cell_type": "markdown",
      "source": [
        "Below is from discord"
      ],
      "metadata": {
        "id": "dgqsWWjc8AGA"
      }
    },
    {
      "cell_type": "code",
      "source": [
        "def run(self, state: TradingState):\n",
        "        # Initialize an empty dictionary to store the orders for each product\n",
        "        result = {}\n",
        "\n",
        "        # Iterate over each product in the order depths\n",
        "        for product in state.order_depths:\n",
        "            # Check if the product exists in conversionObservations\n",
        "            if product in state.observations.conversionObservations:\n",
        "                conversionObservation = state.observations.conversionObservations[product]\n",
        "                # Print them off for json friendly output\n",
        "                transportFees = conversionObservation.transportFees\n",
        "                exportTariff = conversionObservation.exportTariff\n",
        "                importTariff = conversionObservation.importTariff\n",
        "                sunlight = conversionObservation.sunlight\n",
        "                humidity = conversionObservation.humidity\n",
        "\n",
        "\n",
        "                print(\"Transport Fees: \" + str(transportFees))\n",
        "                print(\"Export Tariff: \" + str(exportTariff))\n",
        "                print(\"Import Tariff: \" + str(importTariff))\n",
        "                print(\"Sunlight: \" + str(sunlight))\n",
        "                print(\"Humidity: \" + str(humidity))\n",
        "            else:\n",
        "                print(f\"No conversion observations found for product: {product}\")\n",
        "\n",
        "                #Print off what it does say though\n",
        "                print(\"Conversion Observations: \" + str(state.observations.conversionObservations))"
      ],
      "metadata": {
        "id": "q2pv7VdG3Rpe"
      },
      "execution_count": null,
      "outputs": []
    }
  ]
}